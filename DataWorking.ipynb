{
  "nbformat": 4,
  "nbformat_minor": 0,
  "metadata": {
    "colab": {
      "provenance": [],
      "authorship_tag": "ABX9TyNeIa921gr/bHow/dmNpCLj",
      "include_colab_link": true
    },
    "kernelspec": {
      "name": "python3",
      "display_name": "Python 3"
    },
    "language_info": {
      "name": "python"
    }
  },
  "cells": [
    {
      "cell_type": "markdown",
      "metadata": {
        "id": "view-in-github",
        "colab_type": "text"
      },
      "source": [
        "<a href=\"https://colab.research.google.com/github/alvaro004/DataAnalysisBasics/blob/main/DataWorking.ipynb\" target=\"_parent\"><img src=\"https://colab.research.google.com/assets/colab-badge.svg\" alt=\"Open In Colab\"/></a>"
      ]
    },
    {
      "cell_type": "markdown",
      "source": [
        "# IMDB TOP 1000 MOVIES\n",
        "\n",
        "We first start importing Pandas and getting the necessary data to start working."
      ],
      "metadata": {
        "id": "EPlfnOAIyv5S"
      }
    },
    {
      "cell_type": "markdown",
      "source": [
        "# MOVIELENS 1M DATASET\n"
      ],
      "metadata": {
        "id": "dxgzghieKJbV"
      }
    },
    {
      "cell_type": "markdown",
      "source": [
        "## Importing Fundamentals"
      ],
      "metadata": {
        "id": "ds_TzAOoWAy6"
      }
    },
    {
      "cell_type": "code",
      "source": [
        "import requests\n",
        "import pandas as pd\n",
        "import io"
      ],
      "metadata": {
        "id": "tlxkN_FkVy0E"
      },
      "execution_count": null,
      "outputs": []
    },
    {
      "cell_type": "markdown",
      "source": [],
      "metadata": {
        "id": "WNqCDeNzWDF0"
      }
    },
    {
      "cell_type": "markdown",
      "source": [
        "## Loading Data"
      ],
      "metadata": {
        "id": "2_tLBDMdVptV"
      }
    },
    {
      "source": [
        "\n",
        "\n",
        "# URL for the RAW MovieLens .dat file on GitHub\n",
        "movies_url = 'https://raw.githubusercontent.com/alvaro004/DataAnalysisBasics/06a42e3fd6aaaf606224f2a4d5e4f9b50d712864/DataCollection/ml-1m/movies.dat'\n",
        "\n",
        "\n",
        "# Fetch the data from the URL\n",
        "response = requests.get(movies_url)\n",
        "content = response.content\n",
        "\n",
        "# Try decoding with 'latin-1'\n",
        "movies_df = pd.read_csv(io.StringIO(content.decode('latin-1')), sep='::', header=None, engine='python')\n",
        "\n",
        "# Print the DataFrame (optional)\n",
        "print(movies_df)"
      ],
      "cell_type": "code",
      "metadata": {
        "colab": {
          "base_uri": "https://localhost:8080/"
        },
        "id": "geLNzIiwU6v-",
        "outputId": "4d9efef5-3372-49c5-de5f-284f3069bdde"
      },
      "execution_count": 54,
      "outputs": [
        {
          "output_type": "stream",
          "name": "stdout",
          "text": [
            "         0                                   1                             2\n",
            "0        1                    Toy Story (1995)   Animation|Children's|Comedy\n",
            "1        2                      Jumanji (1995)  Adventure|Children's|Fantasy\n",
            "2        3             Grumpier Old Men (1995)                Comedy|Romance\n",
            "3        4            Waiting to Exhale (1995)                  Comedy|Drama\n",
            "4        5  Father of the Bride Part II (1995)                        Comedy\n",
            "...    ...                                 ...                           ...\n",
            "3878  3948             Meet the Parents (2000)                        Comedy\n",
            "3879  3949          Requiem for a Dream (2000)                         Drama\n",
            "3880  3950                    Tigerland (2000)                         Drama\n",
            "3881  3951             Two Family House (2000)                         Drama\n",
            "3882  3952               Contender, The (2000)                Drama|Thriller\n",
            "\n",
            "[3883 rows x 3 columns]\n"
          ]
        }
      ]
    }
  ]
}