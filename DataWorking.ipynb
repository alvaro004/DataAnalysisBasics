{
  "nbformat": 4,
  "nbformat_minor": 0,
  "metadata": {
    "colab": {
      "provenance": [],
      "authorship_tag": "ABX9TyMs/KVUaNt1aChu16IPcwVq",
      "include_colab_link": true
    },
    "kernelspec": {
      "name": "python3",
      "display_name": "Python 3"
    },
    "language_info": {
      "name": "python"
    }
  },
  "cells": [
    {
      "cell_type": "markdown",
      "metadata": {
        "id": "view-in-github",
        "colab_type": "text"
      },
      "source": [
        "<a href=\"https://colab.research.google.com/github/alvaro004/DataAnalysisBasics/blob/main/DataWorking.ipynb\" target=\"_parent\"><img src=\"https://colab.research.google.com/assets/colab-badge.svg\" alt=\"Open In Colab\"/></a>"
      ]
    },
    {
      "cell_type": "markdown",
      "source": [
        "# IMDB TOP 1000 MOVIES\n",
        "\n",
        "We first start importing Pandas and getting the necessary data to start working."
      ],
      "metadata": {
        "id": "EPlfnOAIyv5S"
      }
    },
    {
      "cell_type": "markdown",
      "source": [
        "# MOVIELENS 1M DATASET\n"
      ],
      "metadata": {
        "id": "dxgzghieKJbV"
      }
    },
    {
      "cell_type": "markdown",
      "source": [
        "## Importing Fundamentals"
      ],
      "metadata": {
        "id": "ds_TzAOoWAy6"
      }
    },
    {
      "cell_type": "code",
      "source": [
        "import requests\n",
        "import pandas as pd\n",
        "import io"
      ],
      "metadata": {
        "id": "tlxkN_FkVy0E"
      },
      "execution_count": 55,
      "outputs": []
    },
    {
      "cell_type": "markdown",
      "source": [],
      "metadata": {
        "id": "WNqCDeNzWDF0"
      }
    },
    {
      "cell_type": "markdown",
      "source": [
        "## Loading Data"
      ],
      "metadata": {
        "id": "2_tLBDMdVptV"
      }
    },
    {
      "source": [
        "# URL for the RAW MovieLens .dat file on GitHub\n",
        "movies_url = 'https://raw.githubusercontent.com/alvaro004/DataAnalysisBasics/06a42e3fd6aaaf606224f2a4d5e4f9b50d712864/DataCollection/ml-1m/movies.dat'\n",
        "\n",
        "# Fetch the data from the URL\n",
        "response = requests.get(movies_url)\n",
        "content = response.content\n",
        "mnames = [\"movie_id\", \"title\", \"genres\"]\n",
        "\n",
        "# Try decoding with 'latin-1'\n",
        "movies_df = pd.read_csv(io.StringIO(content.decode('latin-1')), sep='::', names=mnames, header=None, engine='python')\n",
        "\n",
        "# Print the DataFrame (optional)\n",
        "print(movies_df)"
      ],
      "cell_type": "code",
      "metadata": {
        "colab": {
          "base_uri": "https://localhost:8080/"
        },
        "id": "geLNzIiwU6v-",
        "outputId": "aef1bd61-e560-476c-9f9e-aecd5f042fd0"
      },
      "execution_count": 62,
      "outputs": [
        {
          "output_type": "stream",
          "name": "stdout",
          "text": [
            "      movie_id                               title  \\\n",
            "0            1                    Toy Story (1995)   \n",
            "1            2                      Jumanji (1995)   \n",
            "2            3             Grumpier Old Men (1995)   \n",
            "3            4            Waiting to Exhale (1995)   \n",
            "4            5  Father of the Bride Part II (1995)   \n",
            "...        ...                                 ...   \n",
            "3878      3948             Meet the Parents (2000)   \n",
            "3879      3949          Requiem for a Dream (2000)   \n",
            "3880      3950                    Tigerland (2000)   \n",
            "3881      3951             Two Family House (2000)   \n",
            "3882      3952               Contender, The (2000)   \n",
            "\n",
            "                            genres  \n",
            "0      Animation|Children's|Comedy  \n",
            "1     Adventure|Children's|Fantasy  \n",
            "2                   Comedy|Romance  \n",
            "3                     Comedy|Drama  \n",
            "4                           Comedy  \n",
            "...                            ...  \n",
            "3878                        Comedy  \n",
            "3879                         Drama  \n",
            "3880                         Drama  \n",
            "3881                         Drama  \n",
            "3882                Drama|Thriller  \n",
            "\n",
            "[3883 rows x 3 columns]\n"
          ]
        }
      ]
    },
    {
      "cell_type": "code",
      "source": [
        "users_url = 'https://raw.githubusercontent.com/alvaro004/DataAnalysisBasics/7a48a1f44289412cadc8f399bf97f3540accf5b0/DataCollection/ml-1m/users.dat'\n",
        "response = requests.get(users_url)\n",
        "content = response.content\n",
        "unames = [\"user_id\", \"gender\", \"age\", \"occupation\", \"zip\"]\n",
        "users = pd.read_csv(io.StringIO(content.decode('latin-1')), sep='::', header=None, names=unames, engine='python')\n",
        "print(users)"
      ],
      "metadata": {
        "colab": {
          "base_uri": "https://localhost:8080/"
        },
        "collapsed": true,
        "id": "5zOhvrqfZZde",
        "outputId": "063fe5ed-4bb6-4567-d49d-df5b5fca60a2"
      },
      "execution_count": 63,
      "outputs": [
        {
          "output_type": "stream",
          "name": "stdout",
          "text": [
            "      user_id gender  age  occupation    zip\n",
            "0           1      F    1          10  48067\n",
            "1           2      M   56          16  70072\n",
            "2           3      M   25          15  55117\n",
            "3           4      M   45           7  02460\n",
            "4           5      M   25          20  55455\n",
            "...       ...    ...  ...         ...    ...\n",
            "6035     6036      F   25          15  32603\n",
            "6036     6037      F   45           1  76006\n",
            "6037     6038      F   56           1  14706\n",
            "6038     6039      F   45           0  01060\n",
            "6039     6040      M   25           6  11106\n",
            "\n",
            "[6040 rows x 5 columns]\n"
          ]
        }
      ]
    },
    {
      "cell_type": "code",
      "source": [
        "ratings_url = 'https://raw.githubusercontent.com/alvaro004/DataAnalysisBasics/7a48a1f44289412cadc8f399bf97f3540accf5b0/DataCollection/ml-1m/ratings.dat'\n",
        "response = requests.get(ratings_url)\n",
        "content = response.content\n",
        "rnames = [\"user_id\", \"movie_id\", \"rating\", \"timestamp\"]\n",
        "ratings = pd.read_csv(io.StringIO(content.decode('latin-1')), sep='::', header=None, names=rnames, engine='python')\n",
        "print(ratings)"
      ],
      "metadata": {
        "colab": {
          "base_uri": "https://localhost:8080/"
        },
        "id": "PJRQoe1QbBxW",
        "outputId": "564543bb-b72b-445b-bff2-59deaab05ecf"
      },
      "execution_count": 65,
      "outputs": [
        {
          "output_type": "stream",
          "name": "stdout",
          "text": [
            "         user_id  movie_id  rating  timestamp\n",
            "0              1      1193       5  978300760\n",
            "1              1       661       3  978302109\n",
            "2              1       914       3  978301968\n",
            "3              1      3408       4  978300275\n",
            "4              1      2355       5  978824291\n",
            "...          ...       ...     ...        ...\n",
            "1000204     6040      1091       1  956716541\n",
            "1000205     6040      1094       5  956704887\n",
            "1000206     6040       562       5  956704746\n",
            "1000207     6040      1096       4  956715648\n",
            "1000208     6040      1097       4  956715569\n",
            "\n",
            "[1000209 rows x 4 columns]\n"
          ]
        }
      ]
    }
  ]
}